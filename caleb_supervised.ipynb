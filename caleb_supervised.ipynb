{
 "cells": [
  {
   "cell_type": "code",
   "execution_count": 5,
   "id": "a21b7ab5-bf8d-46bb-ab65-302158c0b331",
   "metadata": {},
   "outputs": [],
   "source": [
    "# Let's start with necessary imports\n",
    "import os\n",
    "import numpy as np\n",
    "import pandas as pd\n",
    "\n",
    "import tensorflow as tf\n",
    "from tensorflow import keras\n",
    "from tensorflow.keras import layers\n",
    "\n",
    "from matplotlib import pyplot as plt\n",
    "from sklearn import metrics\n",
    "from sklearn.model_selection import train_test_split\n",
    "from sklearn.metrics import roc_curve, auc"
   ]
  },
  {
   "cell_type": "code",
   "execution_count": 6,
   "id": "8b2537b4-dfe3-4f76-a7eb-14e18f03869b",
   "metadata": {},
   "outputs": [],
   "source": [
    "# load data and normalize it\n",
    "background = np.load('background.npz')['data']\n",
    "stds = np.std(background, axis=-1)[:, :, np.newaxis]\n",
    "background = background/stds\n",
    "background = np.swapaxes(background, 1, 2)\n",
    "\n",
    "bbh = np.load('bbh_for_challenge.npy')\n",
    "stds = np.std(bbh, axis=-1)[:, :, np.newaxis]\n",
    "bbh = bbh/stds\n",
    "bbh = np.swapaxes(bbh, 1, 2)\n",
    "\n",
    "sglf = np.load('sglf_for_challenge.npy')\n",
    "stds = np.std(sglf, axis=-1)[:, :, np.newaxis]\n",
    "sglf = sglf/stds\n",
    "sglf = np.swapaxes(sglf, 1, 2)"
   ]
  },
  {
   "cell_type": "code",
   "execution_count": null,
   "id": "9f624446-5fb2-428c-939a-37b802214aee",
   "metadata": {},
   "outputs": [],
   "source": [
    "from scipy.fft import rfft, rfftfreq\n",
    "\n",
    "# Sampling rate for the data\n",
    "sampling_rate = 4096  # Hz\n",
    "\n",
    "# Define feature extraction functions\n",
    "def get_peak_frequency(signal, sampling_rate):\n",
    "    fft_vals = rfft(signal)  # Compute the FFT\n",
    "    fft_freqs = rfftfreq(len(signal), d=1/sampling_rate)  # Frequency bins\n",
    "    peak_freq = fft_freqs[np.argmax(np.abs(fft_vals))]  # Find peak frequency\n",
    "    return peak_freq\n",
    "\n",
    "def get_snr(signal):\n",
    "    signal_power = np.mean(signal ** 2)\n",
    "    noise_power = 1  # Assuming whitened data has unit noise power\n",
    "    return signal_power / noise_power\n",
    "\n",
    "def get_central_frequency(signal, sampling_rate):\n",
    "    fft_vals = np.abs(rfft(signal))  # Magnitude of FFT\n",
    "    fft_freqs = rfftfreq(len(signal), d=1/sampling_rate)\n",
    "    central_freq = np.sum(fft_freqs * fft_vals) / np.sum(fft_vals)\n",
    "    return central_freq\n",
    "\n",
    "def get_bandwidth(signal, sampling_rate, threshold=0.1):\n",
    "    fft_vals = np.abs(rfft(signal))\n",
    "    fft_freqs = rfftfreq(len(signal), d=1/sampling_rate)\n",
    "    power_threshold = threshold * np.max(fft_vals)\n",
    "    bandwidth = fft_freqs[fft_vals > power_threshold].ptp()  # Peak-to-peak\n",
    "    return bandwidth\n",
    "\n",
    "# Duration is constant for all segments (200 samples at 4096 Hz)\n",
    "duration = 200 / sampling_rate  # ~48.8 ms\n",
    "\n",
    "# Extract features for each dataset\n",
    "def extract_features(data, label):\n",
    "    features = []\n",
    "    for i in range(data.shape[0]):\n",
    "        sample = data[i]  # Shape: (2, 200), two channels (Hanford and Livingston)\n",
    "        features.append({\n",
    "            \"peakFreq_H1\": get_peak_frequency(sample[0], sampling_rate),\n",
    "            \"snr_H1\": get_snr(sample[0]),\n",
    "            \"centralFreq_H1\": get_central_frequency(sample[0], sampling_rate),\n",
    "            \"bandwidth_H1\": get_bandwidth(sample[0], sampling_rate),\n",
    "            \"peakFreq_L1\": get_peak_frequency(sample[1], sampling_rate),\n",
    "            \"snr_L1\": get_snr(sample[1]),\n",
    "            \"centralFreq_L1\": get_central_frequency(sample[1], sampling_rate),\n",
    "            \"bandwidth_L1\": get_bandwidth(sample[1], sampling_rate),\n",
    "            \"duration\": duration,\n",
    "            \"label\": label  # Add a label for the dataset: 0 = background, 1 = BBH, 2 = SGLF\n",
    "        })\n",
    "    return features\n",
    "\n",
    "# Apply feature extraction to all datasets\n",
    "background_features = extract_features(background, label=0)\n",
    "bbh_features = extract_features(bbh, label=1)\n",
    "sglf_features = extract_features(sglf, label=2)\n",
    "\n",
    "# Combine into a single DataFrame\n",
    "features_df = pd.DataFrame(background_features + bbh_features + sglf_features)\n",
    "\n",
    "# Display the first few rows of the feature DataFrame\n"
   ]
  },
  {
   "cell_type": "code",
   "execution_count": null,
   "id": "1120ee2c-621e-49b4-a58e-7ebdf94f56fd",
   "metadata": {},
   "outputs": [],
   "source": [
    "features_df[features_df[\"label\"] == 1]"
   ]
  },
  {
   "cell_type": "code",
   "execution_count": 27,
   "id": "5959a7e0-3da7-49cc-9f9b-51ae2f86887a",
   "metadata": {},
   "outputs": [
    {
     "data": {
      "text/plain": [
       "(100000, 200, 2)"
      ]
     },
     "execution_count": 27,
     "metadata": {},
     "output_type": "execute_result"
    }
   ],
   "source": []
  },
  {
   "cell_type": "code",
   "execution_count": null,
   "id": "a9a0f8fc-1c28-4e33-92ac-376242a7457a",
   "metadata": {},
   "outputs": [],
   "source": []
  },
  {
   "cell_type": "code",
   "execution_count": null,
   "id": "3c3f7d4d-f118-4a75-b140-357584dc2c1b",
   "metadata": {},
   "outputs": [],
   "source": []
  }
 ],
 "metadata": {
  "kernelspec": {
   "display_name": "Python 3 (ipykernel)",
   "language": "python",
   "name": "python3"
  },
  "language_info": {
   "codemirror_mode": {
    "name": "ipython",
    "version": 3
   },
   "file_extension": ".py",
   "mimetype": "text/x-python",
   "name": "python",
   "nbconvert_exporter": "python",
   "pygments_lexer": "ipython3",
   "version": "3.11.9"
  }
 },
 "nbformat": 4,
 "nbformat_minor": 5
}
